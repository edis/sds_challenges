{
 "cells": [
  {
   "cell_type": "markdown",
   "metadata": {
    "pycharm": {
     "name": "#%% md\n"
    }
   },
   "source": [
    "# SDS Challenge #1 - Flight Cancellations"
   ]
  },
  {
   "cell_type": "markdown",
   "metadata": {},
   "source": [
    "## Problem Statement\n",
    "Welcome, Data Scientist! You have recently been hired by the US Department of Transportation (DOT) to analyze data from multiple airline carriers in the United States. The DOT wants to help airline carriers reduce the number of flight cancellations and improve travelers' experiences. Your job is to help the DOT predict whether or not a flight will be canceled based on the data provided."
   ]
  },
  {
   "cell_type": "markdown",
   "metadata": {},
   "source": [
    "## Evaluation\n",
    "\n",
    "\\begin{equation*}\n",
    "accuracy = \\frac{TP + TN}{TP + TN + FP + FN}\n",
    "\\end{equation*}\n",
    "<br>"
   ]
  },
  {
   "cell_type": "markdown",
   "metadata": {},
   "source": [
    "## Understanding the Dataset \n",
    "\n",
    "Each column in the dataset is labeled and explained in more detail below.\n",
    "\n",
    "<b>YEAR:</b> Year in which the flight was scheduled to take place <br>\n",
    "<b>MONTH:</b> Month in which the flight was scheduled to take place<br>\n",
    "<b>DAY:</b> Day of the month the flight was scheduled to take place <br>\n",
    "<b>DAY_OF_WEEK:</b> Day of the week the flight took place<br> \n",
    "<b>AIRLINE:</b> Initials of the airline that was scheduled to carry out the flight <br> \n",
    "<b>FLIGHT_NUMBER:</b> Initials of the airline that was scheduled to carry out the flight <br> \n",
    "<b>TAIL_NUMBER:</b> Tail Number of the plane that was scheduled to carry out the flight <br>\n",
    "<b>ORIGIN_AIRPORT:</b> Location of the airport that the flight was scheduled to depart from <br>\n",
    "<b>DESTINATION_AIRPORT:</b> Location of the airport that the flight was scheduled to arrive at<br>\n",
    "<b>SCHEDULED_DEPARTURE:</b> Scheduled Departure time of flight<br>\n",
    "<b>SCHEDULED_TIME:</b> Amount of time flight was scheduled to take<br>\n",
    "<b>DISTANCE:</b> Distance between ORIGIN_AIRPORT and DESTINATION_AIRPORT<br>\n",
    "<b>SCHEDULED_ARRIVAL:</b> Flight's scheduled time of arrival <br>\n",
    "<b>CANCELLED:</b> Flight's cancellation status <br>"
   ]
  },
  {
   "cell_type": "markdown",
   "metadata": {},
   "source": [
    "## Dataset Files\n",
    "\n",
    "<b>public_flights.csv</b> - Dataset to train and analyze <br>\n",
    "<b>pred_flights.csv</b>  - Dataset to predict flights' cancellation status"
   ]
  },
  {
   "cell_type": "markdown",
   "metadata": {},
   "source": [
    "## Submission"
   ]
  },
  {
   "cell_type": "markdown",
   "metadata": {},
   "source": [
    "The file should contain predictions made on the pred_flights.csv file, and it should have the following format:"
   ]
  },
  {
   "cell_type": "markdown",
   "metadata": {},
   "source": [
    "<pre>\n",
    "0\n",
    "1\n",
    "0\n",
    "0\n",
    "1\n",
    "0\n",
    "<pre>"
   ]
  },
  {
   "cell_type": "markdown",
   "metadata": {},
   "source": [
    "## Acknowledgments\n",
    "The flight cancellation data was collected and published by the DOT's Bureau of Transportation Statistics."
   ]
  }
 ],
 "metadata": {
  "kernelspec": {
   "display_name": "Python 3",
   "language": "python",
   "name": "python3"
  },
  "language_info": {
   "codemirror_mode": {
    "name": "ipython",
    "version": 3
   },
   "file_extension": ".py",
   "mimetype": "text/x-python",
   "name": "python",
   "nbconvert_exporter": "python",
   "pygments_lexer": "ipython3",
   "version": "3.6.8"
  }
 },
 "nbformat": 4,
 "nbformat_minor": 4
}
