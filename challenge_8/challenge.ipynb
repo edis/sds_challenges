{
 "cells": [
  {
   "cell_type": "markdown",
   "metadata": {},
   "source": [
    "# SDS Challenge #8 - Song Popularity"
   ]
  },
  {
   "cell_type": "markdown",
   "metadata": {},
   "source": [
    "## Problem Statement"
   ]
  },
  {
   "cell_type": "markdown",
   "metadata": {},
   "source": [
    "Welcome Data Scientist to the 8th SDS Club Monthly Challenge! This month you have been hired by a music agency that wants to know how popular their new songs will be. Your job is to analyze over thousands of songs and help them predict how popular each of their new songs will be."
   ]
  },
  {
   "cell_type": "markdown",
   "metadata": {},
   "source": [
    "## Evaluation\n",
    "\\begin{equation*}\n",
    "MSE = {\\frac{1}{n}\\sum_{i=1}^{n}(y_{i} - \\hat{y}_{i})^{2}}\n",
    "\\end{equation*}\n",
    "<br>"
   ]
  },
  {
   "cell_type": "markdown",
   "metadata": {},
   "source": [
    "## Understanding the Dataset"
   ]
  },
  {
   "cell_type": "markdown",
   "metadata": {},
   "source": [
    "Each column in the dataset is labeled and explained in more detail below. <br><br>\n",
    "**acousticness:** a metric of how acoustic a song is<br>\n",
    "**artists:** an array of the artists of the song <br>\n",
    "**danceability:** a metric of how danceable the melody of the song is<br>\n",
    "**duration_ms:** the song length in milliseconds<br>\n",
    "**energy:** a metric of how energetic the song is<br>\n",
    "**explicit:** whether the song is explicit or not<br>\n",
    "**instrumentalness:** a metric of how instrumental the song is<br>\n",
    "**key:** the octave of the song as a numeric value<br>\n",
    "**liveness:** a metric of how lively the song is<br>\n",
    "**loudness:** a metric of how loud the song is (energy in sound waves)<br>\n",
    "**mode:** whether the song is in minor or major<br>\n",
    "**name:** name of the song<br>\n",
    "**release_date:** the release date of the song<br>\n",
    "**speechiness:** a metric of the presence of spoken words in the song <br>\n",
    "**tempo:**  a metric of the speed of the song<br>\n",
    "**valence:**  the metric of how valence (positive) a song is<br>\n",
    "**year:** the year the song was released<br>\n",
    "**popularity:** how popular the song is (what we're trying to predict)<br>"
   ]
  },
  {
   "cell_type": "markdown",
   "metadata": {},
   "source": [
    "##  Dataset Files\n",
    "**public_songs.csv** - Dataset to train and analyze <br>\n",
    "**pred_songs.csv** - Dataset to predict the popularity of songs"
   ]
  },
  {
   "cell_type": "markdown",
   "metadata": {},
   "source": [
    "## Submission\n",
    "All submissions should be sent through email to <challenges@superdatascience.com>. When submitting, the file should contain predictions made on the pred_songs.csv file, and it should have the following format:"
   ]
  },
  {
   "cell_type": "code",
   "execution_count": null,
   "metadata": {},
   "outputs": [],
   "source": [
    "67\n",
    "12\n",
    "25\n",
    "2\n",
    "9\n",
    "78"
   ]
  },
  {
   "cell_type": "markdown",
   "metadata": {},
   "source": [
    "## Acknowledgements\n",
    "This data was collected from the Spotify Web API."
   ]
  }
 ],
 "metadata": {
  "kernelspec": {
   "display_name": "Python 3",
   "language": "python",
   "name": "python3"
  },
  "language_info": {
   "codemirror_mode": {
    "name": "ipython",
    "version": 3
   },
   "file_extension": ".py",
   "mimetype": "text/x-python",
   "name": "python",
   "nbconvert_exporter": "python",
   "pygments_lexer": "ipython3",
   "version": "3.6.8"
  }
 },
 "nbformat": 4,
 "nbformat_minor": 4
}