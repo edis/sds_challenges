{
 "cells": [
  {
   "cell_type": "markdown",
   "metadata": {},
   "source": [
    "# SDS Challenge #2 - Used Car Prices"
   ]
  },
  {
   "cell_type": "markdown",
   "metadata": {},
   "source": [
    "## Problem Statement"
   ]
  },
  {
   "cell_type": "markdown",
   "metadata": {},
   "source": [
    "Welcome Data Scientist to the 2nd SDS Club Monthly Challenge! This month you have been hired by a new car trader company to help sell its used cars. You will be analyzing used cars from multiple manufacturers and of different models. Your job is to help the car trader company determine the price of its used cars."
   ]
  },
  {
   "cell_type": "markdown",
   "metadata": {},
   "source": [
    "## Evaluation"
   ]
  },
  {
   "cell_type": "markdown",
   "metadata": {},
   "source": [
    "\\begin{equation*}\n",
    "MSE = {\\frac{1}{n}\\sum_{i=1}^{n}(y_{i} - \\hat{y}_{i})^{2}}\n",
    "\\end{equation*}\n",
    "<br>"
   ]
  },
  {
   "cell_type": "markdown",
   "metadata": {},
   "source": [
    "## Understanding the Dataset"
   ]
  },
  {
   "cell_type": "markdown",
   "metadata": {},
   "source": [
    "Each column in the dataset is labeled and explained in more detail below. <br><br>\n",
    "**manufacturer_name:** the name of the car manufacturer <br>\n",
    "**model_name:** the name of the car model <br>\n",
    "**transmission:** the type of transmission the car has <br>\n",
    "**color:** the body color of the car <br>\n",
    "**odometer_value:** odometer state in kilometers <br>\n",
    "**year_produced:** the year the car was produced <br>\n",
    "**engine_fuel:** the fuel type of the engine of the car <br>\n",
    "**engine_has_gas:** whether or not the car has a propane tank with tubing <br>\n",
    "**engine_type:** the engine type of the car <br>\n",
    "**engine_capacity:** capacity of the engine in liters <br>\n",
    "**body_type:** the of body the car has <br>\n",
    "**has_warranty:** whether the car has warranty <br>\n",
    "**state:** the state of the car (new, owned, etc.) <br>\n",
    "**drivetrain:** type of drivetrain (front, rear, all) <br>\n",
    "**feature_1 - feature_9:** these features are boolean values about properties of the car<br>\n",
    "**duration_listed:** the number of days the car is listed in the catalog <br>\n",
    "**price_usd:** price of the car in USD <br>"
   ]
  },
  {
   "cell_type": "markdown",
   "metadata": {},
   "source": [
    "##  Dataset Files\n",
    "**public_cars.csv** - Dataset to train and analyze <br>\n",
    "**pred_cars.csv** - Dataset to predict cars prices"
   ]
  },
  {
   "cell_type": "markdown",
   "metadata": {},
   "source": [
    "## Submission"
   ]
  },
  {
   "cell_type": "markdown",
   "metadata": {},
   "source": [
    "All submissions should be sent through email to <challenges@superdatascience.com>. When submitting, the file should contain predictions made on the pred_cars.csv file, and it should have the following format:"
   ]
  },
  {
   "cell_type": "code",
   "execution_count": null,
   "metadata": {
    "pycharm": {
     "name": "#%%\n"
    }
   },
   "outputs": [],
   "source": [
    "12000\n",
    "19500\n",
    "6000\n",
    "7500\n",
    "24000"
   ]
  }
 ],
 "metadata": {
  "kernelspec": {
   "display_name": "Python 3",
   "language": "python",
   "name": "python3"
  },
  "language_info": {
   "codemirror_mode": {
    "name": "ipython",
    "version": 3
   },
   "file_extension": ".py",
   "mimetype": "text/x-python",
   "name": "python",
   "nbconvert_exporter": "python",
   "pygments_lexer": "ipython3",
   "version": "3.6.8"
  }
 },
 "nbformat": 4,
 "nbformat_minor": 4
}