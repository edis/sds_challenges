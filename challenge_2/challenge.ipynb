{
 "cells": [
  {
   "cell_type": "markdown",
   "metadata": {},
   "source": [
    "# SDS Challenge #2 - Used Car Prices"
   ]
  },
  {
   "cell_type": "markdown",
   "metadata": {},
   "source": [
    "## Problem Statement"
   ]
  },
  {
   "cell_type": "markdown",
   "metadata": {},
   "source": [
    "Welcome Data Scientist to the 2nd SDS Club Monthly Challenge! This month you have been hired by a new car trader company to help sell its used cars. You will be analyzing used cars from multiple manufacturers and of different models. Your job is to help the car trader company determine the price of its used cars."
   ]
  },
  {
   "cell_type": "markdown",
   "metadata": {},
   "source": [
    "## Evaluation"
   ]
  },
  {
   "cell_type": "markdown",
   "metadata": {},
   "source": [
    "\\begin{equation*}\n",
    "MSE = {\\frac{1}{n}\\sum_{i=1}^{n}(y_{i} - \\hat{y}_{i})^{2}}\n",
    "\\end{equation*}\n",
    "<br>"
   ]
  },
  {
   "cell_type": "markdown",
   "metadata": {},
   "source": [
    "## Understanding the Dataset"
   ]
  },
  {
   "cell_type": "markdown",
   "metadata": {},
   "source": [
    "Each column in the dataset is labeled and explained in more detail below. <br><br>\n",
    "**manufacturer_name:** the name of the car manufacturer <br>\n",
    "**model_name:** the name of the car model <br>\n",
    "**transmission:** the type of transmission the car has <br>\n",
    "**color:** the body color of the car <br>\n",
    "**odometer_value:** odometer state in kilometers <br>\n",
    "**year_produced:** the year the car was produced <br>\n",
    "**engine_fuel:** the fuel type of the engine of the car <br>\n",
    "**engine_has_gas:** whether or not the car has a propane tank with tubing <br>\n",
    "**engine_type:** the engine type of the car <br>\n",
    "**engine_capacity:** capacity of the engine in liters <br>\n",
    "**body_type:** the of body the car has <br>\n",
    "**has_warranty:** whether the car has warranty <br>\n",
    "**state:** the state of the car (new, owned, etc.) <br>\n",
    "**drivetrain:** type of drivetrain (front, rear, all) <br>\n",
    "**feature_1 - feature_9:** these features are boolean values about properties of the car<br>\n",
    "**duration_listed:** the number of days the car is listed in the catalog <br>\n",
    "**price_usd:** price of the car in USD <br>"
   ]
  },
  {
   "cell_type": "markdown",
   "metadata": {},
   "source": [
    "##  Dataset Files\n",
    "**public_cars.csv** - Dataset to train and analyze <br>\n",
    "**pred_cars.csv** - Dataset to predict cars prices"
   ]
  },
  {
   "cell_type": "markdown",
   "metadata": {},
   "source": [
    "## Submission"
   ]
  },
  {
   "cell_type": "markdown",
   "metadata": {},
   "source": [
    "All submissions should be sent through email to <challenges@superdatascience.com>. When submitting, the file should contain predictions made on the pred_cars.csv file, and it should have the following format:"
   ]
  },
  {
   "cell_type": "code",
   "execution_count": null,
   "metadata": {
    "pycharm": {
     "name": "#%%\n"
    }
   },
   "outputs": [],
   "source": [
    "12000\n",
    "19500\n",
    "6000\n",
    "7500\n",
    "24000"
   ]
  },
  {
   "cell_type": "code",
   "execution_count": 1,
   "metadata": {},
   "outputs": [],
   "source": [
    "import pandas as pd\n",
    "import seaborn as sns\n",
    "import matplotlib.pyplot as plt\n",
    "from sklearn.linear_model import LinearRegression\n",
    "import statsmodels.api as sm\n",
    "from sklearn import preprocessing\n",
    "from sklearn.model_selection import train_test_split\n",
    "import seaborn as sns\n",
    "import statsmodels.tsa.api as smt\n",
    "from statsmodels.stats.outliers_influence import variance_inflation_factor\n",
    "import scipy as sp\n",
    "import numpy as np"
   ]
  },
  {
   "cell_type": "code",
   "execution_count": 3,
   "metadata": {},
   "outputs": [],
   "source": [
    "df_cars = pd.read_csv('../data/public_cars.csv')"
   ]
  },
  {
   "cell_type": "code",
   "execution_count": 4,
   "metadata": {},
   "outputs": [
    {
     "name": "stdout",
     "output_type": "stream",
     "text": [
      "<class 'pandas.core.frame.DataFrame'>\n",
      "RangeIndex: 30824 entries, 0 to 30823\n",
      "Data columns (total 26 columns):\n",
      "manufacturer_name    30824 non-null object\n",
      "model_name           30824 non-null object\n",
      "transmission         30824 non-null object\n",
      "color                30824 non-null object\n",
      "odometer_value       30824 non-null int64\n",
      "year_produced        30824 non-null int64\n",
      "engine_fuel          30824 non-null object\n",
      "engine_has_gas       30824 non-null bool\n",
      "engine_type          30824 non-null object\n",
      "engine_capacity      30816 non-null float64\n",
      "body_type            30824 non-null object\n",
      "has_warranty         30824 non-null bool\n",
      "state                30824 non-null object\n",
      "drivetrain           30824 non-null object\n",
      "feature_0            30824 non-null bool\n",
      "feature_1            30824 non-null bool\n",
      "feature_2            30824 non-null bool\n",
      "feature_3            30824 non-null bool\n",
      "feature_4            30824 non-null bool\n",
      "feature_5            30824 non-null bool\n",
      "feature_6            30824 non-null bool\n",
      "feature_7            30824 non-null bool\n",
      "feature_8            30824 non-null bool\n",
      "feature_9            30824 non-null bool\n",
      "duration_listed      30824 non-null int64\n",
      "price_usd            30824 non-null float64\n",
      "dtypes: bool(12), float64(2), int64(3), object(9)\n",
      "memory usage: 3.6+ MB\n"
     ]
    }
   ],
   "source": [
    "df_cars.info()"
   ]
  },
  {
   "cell_type": "code",
   "execution_count": 25,
   "metadata": {},
   "outputs": [],
   "source": [
    "df_cars.dropna(inplace=True)\n",
    "X=df_cars[['odometer_value','engine_capacity','duration_listed']]\n",
    "y= df_cars['price_usd']\n",
    "normalized_X=(X-X.mean())/X.std()"
   ]
  },
  {
   "cell_type": "code",
   "execution_count": 26,
   "metadata": {},
   "outputs": [],
   "source": [
    "X_train, X_test, y_train, y_test = train_test_split(normalized_X, y, \n",
    "                                                    test_size=0.10, \n",
    "                                                    random_state=42)"
   ]
  },
  {
   "cell_type": "code",
   "execution_count": 27,
   "metadata": {},
   "outputs": [
    {
     "name": "stdout",
     "output_type": "stream",
     "text": [
      "                                 OLS Regression Results                                \n",
      "=======================================================================================\n",
      "Dep. Variable:              price_usd   R-squared (uncentered):                   0.143\n",
      "Model:                            OLS   Adj. R-squared (uncentered):              0.143\n",
      "Method:                 Least Squares   F-statistic:                              1544.\n",
      "Date:                Sat, 28 Nov 2020   Prob (F-statistic):                        0.00\n",
      "Time:                        16:57:38   Log-Likelihood:                     -2.9039e+05\n",
      "No. Observations:               27734   AIC:                                  5.808e+05\n",
      "Df Residuals:                   27731   BIC:                                  5.808e+05\n",
      "Df Model:                           3                                                  \n",
      "Covariance Type:            nonrobust                                                  \n",
      "===================================================================================\n",
      "                      coef    std err          t      P>|t|      [0.025      0.975]\n",
      "-----------------------------------------------------------------------------------\n",
      "odometer_value  -2962.0925     51.696    -57.299      0.000   -3063.419   -2860.766\n",
      "engine_capacity  2208.1027     51.892     42.552      0.000    2106.392    2309.813\n",
      "duration_listed    35.8210     51.442      0.696      0.486     -65.009     136.650\n",
      "==============================================================================\n",
      "Omnibus:                    11128.744   Durbin-Watson:                   0.793\n",
      "Prob(Omnibus):                  0.000   Jarque-Bera (JB):            70622.950\n",
      "Skew:                           1.810   Prob(JB):                         0.00\n",
      "Kurtosis:                       9.929   Cond. No.                         1.15\n",
      "==============================================================================\n",
      "\n",
      "Notes:\n",
      "[1] R² is computed without centering (uncentered) since the model does not contain a constant.\n",
      "[2] Standard Errors assume that the covariance matrix of the errors is correctly specified.\n"
     ]
    },
    {
     "name": "stderr",
     "output_type": "stream",
     "text": [
      "c:\\program files\\python38\\lib\\site-packages\\numpy\\core\\fromnumeric.py:2542: FutureWarning: Method .ptp is deprecated and will be removed in a future version. Use numpy.ptp instead.\n",
      "  return ptp(axis=axis, out=out, **kwargs)\n"
     ]
    }
   ],
   "source": [
    "normalized_X=sm.add_constant(X_train)\n",
    "mod = sm.OLS(y_train, X_train)\n",
    "res = mod.fit()\n",
    "print(res.summary())"
   ]
  },
  {
   "cell_type": "code",
   "execution_count": 28,
   "metadata": {},
   "outputs": [
    {
     "data": {
      "text/plain": [
       "odometer_value    -2962.092508\n",
       "engine_capacity    2208.102701\n",
       "duration_listed      35.820958\n",
       "dtype: float64"
      ]
     },
     "execution_count": 28,
     "metadata": {},
     "output_type": "execute_result"
    }
   ],
   "source": [
    "res.params"
   ]
  },
  {
   "cell_type": "code",
   "execution_count": 29,
   "metadata": {},
   "outputs": [],
   "source": [
    "y_pred = res.predict(X_test)\n",
    "residual = y_test - y_pred"
   ]
  },
  {
   "cell_type": "code",
   "execution_count": 30,
   "metadata": {},
   "outputs": [
    {
     "data": {
      "text/html": [
       "<div>\n",
       "<style scoped>\n",
       "    .dataframe tbody tr th:only-of-type {\n",
       "        vertical-align: middle;\n",
       "    }\n",
       "\n",
       "    .dataframe tbody tr th {\n",
       "        vertical-align: top;\n",
       "    }\n",
       "\n",
       "    .dataframe thead th {\n",
       "        text-align: right;\n",
       "    }\n",
       "</style>\n",
       "<table border=\"1\" class=\"dataframe\">\n",
       "  <thead>\n",
       "    <tr style=\"text-align: right;\">\n",
       "      <th></th>\n",
       "      <th>odometer_value</th>\n",
       "      <th>engine_capacity</th>\n",
       "      <th>duration_listed</th>\n",
       "    </tr>\n",
       "  </thead>\n",
       "  <tbody>\n",
       "    <tr>\n",
       "      <th>vif</th>\n",
       "      <td>1.012138</td>\n",
       "      <td>1.018448</td>\n",
       "      <td>1.0063</td>\n",
       "    </tr>\n",
       "  </tbody>\n",
       "</table>\n",
       "</div>"
      ],
      "text/plain": [
       "     odometer_value  engine_capacity  duration_listed\n",
       "vif        1.012138         1.018448           1.0063"
      ]
     },
     "execution_count": 30,
     "metadata": {},
     "output_type": "execute_result"
    }
   ],
   "source": [
    "vif = [variance_inflation_factor(X_train.values, i) for i in range(X_train.shape[1])]\n",
    "pd.DataFrame({'vif': vif[0:]}, index=X_train.columns).T"
   ]
  },
  {
   "cell_type": "code",
   "execution_count": 31,
   "metadata": {},
   "outputs": [
    {
     "data": {
      "text/plain": [
       "<matplotlib.axes._subplots.AxesSubplot at 0x1e9f43fb370>"
      ]
     },
     "execution_count": 31,
     "metadata": {},
     "output_type": "execute_result"
    },
    {
     "data": {
      "image/png": "[encoded data removed]",
      "text/plain": [
       "<Figure size 432x288 with 1 Axes>"
      ]
     },
     "metadata": {
      "needs_background": "light"
     },
     "output_type": "display_data"
    }
   ],
   "source": [
    "sns.distplot(residual)"
   ]
  },
  {
   "cell_type": "code",
   "execution_count": 32,
   "metadata": {},
   "outputs": [
    {
     "data": {
      "image/png": "[encoded data removed]",
      "text/plain": [
       "<Figure size 432x180 with 1 Axes>"
      ]
     },
     "metadata": {
      "needs_background": "light"
     },
     "output_type": "display_data"
    }
   ],
   "source": [
    "fig, ax = plt.subplots(figsize=(6,2.5))\n",
    "_, (__, ___, r) = sp.stats.probplot(residual, plot=ax, fit=True)"
   ]
  },
  {
   "cell_type": "code",
   "execution_count": 33,
   "metadata": {},
   "outputs": [
    {
     "data": {
      "text/plain": [
       "6610.435438084139"
      ]
     },
     "execution_count": 33,
     "metadata": {},
     "output_type": "execute_result"
    }
   ],
   "source": [
    "np.mean(residual)"
   ]
  },
  {
   "cell_type": "code",
   "execution_count": 34,
   "metadata": {},
   "outputs": [
    {
     "data": {
      "image/png": "[encoded data removed]",
      "text/plain": [
       "<Figure size 432x180 with 1 Axes>"
      ]
     },
     "metadata": {
      "needs_background": "light"
     },
     "output_type": "display_data"
    }
   ],
   "source": [
    "fig, ax = plt.subplots(figsize=(6,2.5))\n",
    "_ = ax.scatter(y_pred, residual)"
   ]
  },
  {
   "cell_type": "code",
   "execution_count": null,
   "metadata": {},
   "outputs": [],
   "source": []
  }
 ],
 "metadata": {
  "kernelspec": {
   "display_name": "Python 3",
   "language": "python",
   "name": "python3"
  },
  "language_info": {
   "codemirror_mode": {
    "name": "ipython",
    "version": 3
   },
   "file_extension": ".py",
   "mimetype": "text/x-python",
   "name": "python",
   "nbconvert_exporter": "python",
   "pygments_lexer": "ipython3",
   "version": "3.8.3"
  }
 },
 "nbformat": 4,
 "nbformat_minor": 4
}
