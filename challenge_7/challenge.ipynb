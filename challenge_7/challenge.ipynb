{
 "cells": [
  {
   "cell_type": "markdown",
   "metadata": {},
   "source": [
    "# SDS Challenge #7 - Laptop Prices"
   ]
  },
  {
   "cell_type": "markdown",
   "metadata": {},
   "source": [
    "## Problem Statement\n",
    "\n",
    "Welcome Data Scientist to the 7th SDS Club Monthly Challenge! In this month's challenge you have been hired by a local technology store to analyze laptop prices. You will be analyzing various laptops from multiple companies. Your job is to help the store determine the selling price of their laptops."
   ]
  },
  {
   "cell_type": "markdown",
   "metadata": {},
   "source": [
    "## Evaluation\n",
    "\\begin{equation*}\n",
    "MSE = {\\frac{1}{n}\\sum_{i=1}^{n}(y_{i} - \\hat{y}_{i})^{2}}\n",
    "\\end{equation*}\n",
    "<br>"
   ]
  },
  {
   "cell_type": "markdown",
   "metadata": {},
   "source": [
    "## Understanding the Dataset"
   ]
  },
  {
   "cell_type": "markdown",
   "metadata": {},
   "source": [
    "Each column in the dataset is labeled and explained in more detail below.\n",
    "\n",
    "**Company** - the laptop's brand<br />\n",
    "**Product** - the laptop's name<br />\n",
    "**TypeName** - the type of laptop (Notebook, Gaming, Ultrabook, etc.)<br />\n",
    "**Inches** - the laptop screen size in inches<br />\n",
    "**ScreenResolution** - the laptop's screen resolution<br />\n",
    "**Cpu** - the laptop's cpu (central processing unit)<br />\n",
    "**Ram** - the laptop's ram size<br />\n",
    "**Memory** - the laptop's memory<br />\n",
    "**Gpu** - the laptop's gpu (graphics processing unit)<br />\n",
    "**OpSys** - the laptop's operating system<br />\n",
    "**Weight** - the laptop's weight in kilograms<br />\n",
    "**Price_euros** - the laptop's price in euros<br />"
   ]
  },
  {
   "cell_type": "markdown",
   "metadata": {},
   "source": [
    "## Dataset Files\n",
    "**public_laptops.csv** - Dataset to train and analyze <br />\n",
    "**pred_laptops.csv** - Dataset to predict laptop prices"
   ]
  },
  {
   "cell_type": "markdown",
   "metadata": {},
   "source": [
    "## Submission\n",
    "All submissions should be sent through email to challenges@superdatascience.com. When submitting, the file should contain predictions made on the pred_laptops.csv file, and it should have the following format:"
   ]
  },
  {
   "cell_type": "code",
   "execution_count": null,
   "metadata": {},
   "outputs": [],
   "source": [
    "400\n",
    "1230\n",
    "890\n",
    "125\n",
    "549"
   ]
  }
 ],
 "metadata": {
  "kernelspec": {
   "display_name": "Python 3",
   "language": "python",
   "name": "python3"
  },
  "language_info": {
   "codemirror_mode": {
    "name": "ipython",
    "version": 3
   },
   "file_extension": ".py",
   "mimetype": "text/x-python",
   "name": "python",
   "nbconvert_exporter": "python",
   "pygments_lexer": "ipython3",
   "version": "3.6.8"
  }
 },
 "nbformat": 4,
 "nbformat_minor": 4
}