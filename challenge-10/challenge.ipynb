{
 "cells": [
  {
   "cell_type": "markdown",
   "metadata": {},
   "source": [
    "# SDS Challenge #10 - Consumer Reviews"
   ]
  },
  {
   "cell_type": "markdown",
   "metadata": {},
   "source": [
    "## Problem Statement"
   ]
  },
  {
   "cell_type": "markdown",
   "metadata": {},
   "source": [
    "Welcome Data Scientist to the 10th SDS Club Monthly Challenge! This month you have been hired by a popular ecommerce company to predict whether a consumer review is postive or negative. Your mission is to anaylze thousands of reviews and determine if they are postive or negative."
   ]
  },
  {
   "cell_type": "markdown",
   "metadata": {},
   "source": [
    "## Evaluation\n",
    "\\begin{equation*}\n",
    "accuracy = \\frac{TP + TN}{TP + TN + FP + FN}\n",
    "\\end{equation*}\n",
    "<br>"
   ]
  },
  {
   "cell_type": "markdown",
   "metadata": {},
   "source": [
    "## Understanding the Dataset"
   ]
  },
  {
   "cell_type": "markdown",
   "metadata": {},
   "source": [
    "The dataset only has the following three columns:<br><br>\n",
    "\n",
    "**polarity** whether the review is negative or positive (1 or 2 - respectively)<br>\n",
    "**title:** the title of the consumer review<br>\n",
    "**text:** the text content of the consumer review<br />"
   ]
  },
  {
   "cell_type": "markdown",
   "metadata": {},
   "source": [
    "##  Dataset Files\n",
    "**public_reviews.csv** - Dataset to train and analyze <br>\n",
    "**pred_reviews.csv** - Dataset to predict whether a review is postive or negative"
   ]
  },
  {
   "cell_type": "markdown",
   "metadata": {},
   "source": [
    "## Submission\n",
    "All submissions should be sent through email to <challenges@superdatascience.com>. When submitting, the file should contain predictions made on the pred_reviews.csv file, and it should have the following format:"
   ]
  },
  {
   "cell_type": "code",
   "execution_count": null,
   "metadata": {},
   "outputs": [],
   "source": [
    "1\n",
    "2\n",
    "2\n",
    "2\n",
    "1\n",
    "2\n",
    "1"
   ]
  }
 ],
 "metadata": {
  "kernelspec": {
   "display_name": "Python 3",
   "language": "python",
   "name": "python3"
  },
  "language_info": {
   "codemirror_mode": {
    "name": "ipython",
    "version": 3
   },
   "file_extension": ".py",
   "mimetype": "text/x-python",
   "name": "python",
   "nbconvert_exporter": "python",
   "pygments_lexer": "ipython3",
   "version": "3.6.8"
  }
 },
 "nbformat": 4,
 "nbformat_minor": 4
}
