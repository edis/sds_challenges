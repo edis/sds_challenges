{
 "cells": [
  {
   "cell_type": "markdown",
   "metadata": {},
   "source": [
    "# SDS Challenge #6 - Medical Appointment No Shows"
   ]
  },
  {
   "cell_type": "markdown",
   "metadata": {},
   "source": [
    "## Problem Statement\n",
    "\n",
    "Welcome Data Scientist to the 6th SDS Club Monthly Challenge! In this month's challenge you will be helping hospitals and medical centers to determine whether a patient will show up for their appointment. Close to 20% of patients worldwide miss their appointments, this costs medical providers millions of dollars annually. Your mission to help predict whether a given patient will show-up to their appointment."
   ]
  },
  {
   "cell_type": "markdown",
   "metadata": {},
   "source": [
    "## Evaluation\n",
    "\\begin{equation*}\n",
    "accuracy = \\frac{TP + TN}{TP + TN + FP + FN}\n",
    "\\end{equation*}\n",
    "<br>"
   ]
  },
  {
   "cell_type": "markdown",
   "metadata": {},
   "source": [
    "## Understanding the Dataset"
   ]
  },
  {
   "cell_type": "markdown",
   "metadata": {},
   "source": [
    "Each column in the dataset is labeled and explained in more detail below.\n",
    "\n",
    "**PatientId** - the patient's id<br />\n",
    "**AppointmentId** - the patients' appointment's id<br />\n",
    "**Gender** - patient's gender<br />\n",
    "**ScheduledDay** - day the appointment was scheduled (should be before **AppointmentDay**)<br />\n",
    "**AppointmentDay** - day of the scheduled appointment<br />\n",
    "**Age** - patient's age<br/>\n",
    "**Neighbourhood** - neighbourhood of where the appointment will take place<br/>\n",
    "**Scholarship** - whether the patient is receiving welfare or not<br/>\n",
    "**Hypertension** - whether the patient has hypertension<br/>\n",
    "**Diabetes** - whether the patient has diabetes<br/>\n",
    "**Alcoholism** - whether the patient suffers from alcoholism<br/>\n",
    "**Handicap** - whether the patient is handicapped<br/>\n",
    "**SMS_received** - whether the patient was sent a text message notifying them of their appointment<br/>\n",
    "**No-show** - whether the patient was a no-show (True -> patient didn't show up, False -> patient showed up) <br/>"
   ]
  },
  {
   "cell_type": "markdown",
   "metadata": {},
   "source": [
    "## Dataset Files\n",
    "**public_appointments.csv** - Dataset to train and analyze <br />\n",
    "**pred_appointments.csv** - Dataset to predict whether the patient showed up for their appointment"
   ]
  },
  {
   "cell_type": "markdown",
   "metadata": {},
   "source": [
    "## Submission\n",
    "All submissions should be sent through email to challenges@superdatascience.com. When submitting, the file should contain predictions made on the pred_appointments.csv file, and it should have the following format:"
   ]
  },
  {
   "cell_type": "code",
   "execution_count": null,
   "metadata": {},
   "outputs": [],
   "source": [
    "0\n",
    "1\n",
    "1\n",
    "0\n",
    "0\n",
    "1"
   ]
  },
  {
   "cell_type": "markdown",
   "metadata": {},
   "source": [
    "## Acknowledgements"
   ]
  },
  {
   "cell_type": "markdown",
   "metadata": {},
   "source": [
    "The data was collection by Joni Hoppen and Aquarela Advanced Analytics."
   ]
  }
 ],
 "metadata": {
  "kernelspec": {
   "display_name": "Python 3",
   "language": "python",
   "name": "python3"
  },
  "language_info": {
   "codemirror_mode": {
    "name": "ipython",
    "version": 3
   },
   "file_extension": ".py",
   "mimetype": "text/x-python",
   "name": "python",
   "nbconvert_exporter": "python",
   "pygments_lexer": "ipython3",
   "version": "3.6.8"
  }
 },
 "nbformat": 4,
 "nbformat_minor": 4

