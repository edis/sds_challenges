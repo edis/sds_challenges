{
 "cells": [
  {
   "cell_type": "markdown",
   "metadata": {},
   "source": [
    "# SDS Challenge #3 - Job Postings"
   ]
  },
  {
   "cell_type": "markdown",
   "metadata": {},
   "source": [
    "## Problem Statement"
   ]
  },
  {
   "cell_type": "markdown",
   "metadata": {},
   "source": [
    "Welcome Data Scientist to the 3rd SDS Club Monthly Challenge! In this month's challenge you are helping your friend search for a job. Your friend has found thousands of job ads online and is trying to pick some to apply to. Your friends has heard that there are a lot of fraudulent job ads that are actually scams. Your mission is to help your friend by predicting whether a job is fraudulent based on the data provided."
   ]
  },
  {
   "cell_type": "markdown",
   "metadata": {},
   "source": [
    "## Evaluation"
   ]
  },
  {
   "cell_type": "markdown",
   "metadata": {},
   "source": [
    "\\begin{equation*}\n",
    "accuracy = \\frac{TP + TN}{TP + TN + FP + FN}\n",
    "\\end{equation*}\n",
    "<br>"
   ]
  },
  {
   "cell_type": "markdown",
   "metadata": {},
   "source": [
    "## Understanding the Dataset"
   ]
  },
  {
   "cell_type": "markdown",
   "metadata": {},
   "source": [
    "Each column in the dataset is labeled and explained in more detail below.\n",
    "\n",
    "**title** - title of the job in ad <br>\n",
    "**location** - location of job ad <br>\n",
    "**department** - corporate department <br>\n",
    "**salary_range** - salary range of job <br>\n",
    "**company_profile** - description of company <br>\n",
    "**description** - description of position <br>\n",
    "**requirements** - description of job requirements <br>\n",
    "**benefits** - benefits offered by the employer <br>\n",
    "**telecommuting** - if telecommuting position <br>\n",
    "**has_company_logo** - if the company's logo is present in the ad <br>\n",
    "**has_questions** - if interview questions are present in ad <br>\n",
    "**employment_type** - type of employment (full-time, part-time, contract, etc.) <br>\n",
    "**required_experience** - required experience for job (master's degree, bachelor, doctorate, etc.) <br>\n",
    "**industry** - industry of company (Construction, Health Care, IT, etc.) <br>\n",
    "**function** - function of company within industry (consulting, sales, research, etc.) <br>\n",
    "**fraudulent** - whether job is fraudulent or not <br>"
   ]
  },
  {
   "cell_type": "markdown",
   "metadata": {},
   "source": [
    "## Dataset Files"
   ]
  },
  {
   "cell_type": "markdown",
   "metadata": {},
   "source": [
    "**public_jobs.csv** - Dataset to train and analyze <br>\n",
    "**pred_jobs.csv** - Dataset to predict whether or not a job posting is fraudulent"
   ]
  },
  {
   "cell_type": "markdown",
   "metadata": {},
   "source": [
    "## Submission"
   ]
  },
  {
   "cell_type": "markdown",
   "metadata": {},
   "source": [
    "All submissions should be sent through email to challenges@superdatascience.com. When submitting, the file should contain predictions made on the pred_jobs.csv file, and it should have the following format:"
   ]
  },
  {
   "cell_type": "code",
   "execution_count": null,
   "metadata": {
    "pycharm": {
     "name": "#%%\n"
    }
   },
   "outputs": [],
   "source": [
    "0\n",
    "1\n",
    "0\n",
    "0\n",
    "1\n",
    "0"
   ]
  },
  {
   "cell_type": "markdown",
   "source": [
    "## Acknowledgements"
   ],
   "metadata": {
    "collapsed": false
   }
  },
  {
   "cell_type": "markdown",
   "source": [
    "The data was collected and published by The University of the Aegean, Laboratory of Information & Communication Systems Security."
   ],
   "metadata": {
    "collapsed": false
   }
  }
 ],
 "metadata": {
  "kernelspec": {
   "display_name": "Python 3",
   "language": "python",
   "name": "python3"
  },
  "language_info": {
   "codemirror_mode": {
    "name": "ipython",
    "version": 3
   },
   "file_extension": ".py",
   "mimetype": "text/x-python",
   "name": "python",
   "nbconvert_exporter": "python",
   "pygments_lexer": "ipython3",
   "version": "3.6.8"
  }
 },
 "nbformat": 4,
 "nbformat_minor": 4
}
